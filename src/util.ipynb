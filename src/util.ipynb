{
 "metadata": {
  "language_info": {
   "codemirror_mode": {
    "name": "ipython",
    "version": 3
   },
   "file_extension": ".py",
   "mimetype": "text/x-python",
   "name": "python",
   "nbconvert_exporter": "python",
   "pygments_lexer": "ipython3",
   "version": "3.8.5-final"
  },
  "orig_nbformat": 2,
  "kernelspec": {
   "name": "python3",
   "display_name": "Python 3"
  }
 },
 "nbformat": 4,
 "nbformat_minor": 2,
 "cells": [
  {
   "cell_type": "code",
   "execution_count": 2,
   "metadata": {},
   "outputs": [],
   "source": [
    "import pandas as pd"
   ]
  },
  {
   "cell_type": "code",
   "execution_count": 19,
   "metadata": {},
   "outputs": [],
   "source": [
    "def concat_files(files_path, drop_duplicates_by=[]):\n",
    "    \"\"\"Retorne um dataframe com a concatenação vertical dos dados dos arquivos do diretorio dir_path\n",
    "    \"\"\"\n",
    "    ### BEGIN SOLUTION\n",
    "    import glob\n",
    "    from time import strptime\n",
    "    import datetime\n",
    "    pieces = []\n",
    "    result = None\n",
    "    for f in glob.glob(files_path):\n",
    "        # print(f)\n",
    "        frame = pd.read_csv(f, engine='python')\n",
    "        pieces.append(frame)\n",
    "    # Concatena tudo num único DataFrame\n",
    "    result = pd.concat(pieces, ignore_index=True)\n",
    "    if drop_duplicates_by:\n",
    "        result.drop_duplicates(subset=drop_duplicates_by, inplace=True)\n",
    "    \n",
    "    return result"
   ]
  },
  {
   "cell_type": "code",
   "execution_count": 28,
   "metadata": {},
   "outputs": [],
   "source": [
    "# import glob\n",
    "\n",
    "# path = \"/home/alex/vscode/data/crunchbase/*.csv\"\n",
    "\n",
    "# f = \"/home/alex/vscode/data/crunchbase/startups-2015_alterado.csv\"\n",
    "# frame = pd.read_csv(f, engine='python', quotechar='\"')\n",
    "\n"
   ]
  }
 ]
}