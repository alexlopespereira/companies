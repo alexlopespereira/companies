{
 "cells": [
  {
   "cell_type": "code",
   "execution_count": 163,
   "metadata": {},
   "outputs": [],
   "source": [
    "from sklearn.ensemble import RandomForestClassifier\n",
    "from sklearn.model_selection import cross_validate\n",
    "from sklearn.metrics import confusion_matrix\n",
    "from sklearn.metrics import make_scorer\n",
    "from sklearn.metrics import jaccard_score, f1_score, recall_score, precision_score\n",
    "from sklearn.metrics import precision_recall_fscore_support\n",
    "import pandas as pd\n",
    "import numpy as np"
   ]
  },
  {
   "cell_type": "code",
   "execution_count": 167,
   "metadata": {},
   "outputs": [
    {
     "data": {
      "text/plain": [
       "0.5320614550360868"
      ]
     },
     "execution_count": 167,
     "metadata": {},
     "output_type": "execute_result"
    }
   ],
   "source": [
    "dealroom_class_path = \"C:\\\\Users\\\\alex\\\\PycharmProjects\\\\chamada\\\\data\\\\processado\\\\dealroom\\\\companies_class.csv\"\n",
    "dfc = pd.read_csv(dealroom_class_path)\n",
    "dfc.shape\n",
    "X = dfc.iloc[:, 1:]\n",
    "y = dfc.iloc[:, 0]\n",
    "classifier = RandomForestClassifier(n_estimators=20, random_state=0)\n",
    "def precision(y_true, y_pred): return precision_score(y_true, y_pred, average='micro')\n",
    "def recall(y_true, y_pred): return recall_score(y_true, y_pred, average='micro')\n",
    "def f1(y_true, y_pred): return f1_score(y_true, y_pred, average='micro')\n",
    "def jacc(y_true, y_pred): return jaccard_score(y_true, y_pred, average='micro')\n",
    "def tn(y_true, y_pred): return confusion_matrix(y_true, y_pred)[0, 0]\n",
    "def fp(y_true, y_pred): return confusion_matrix(y_true, y_pred)[0, 1]\n",
    "def fn(y_true, y_pred): return confusion_matrix(y_true, y_pred)[1, 0]\n",
    "def tp(y_true, y_pred): return confusion_matrix(y_true, y_pred)[1, 1]\n",
    "\n",
    "scoring = {'jacc': make_scorer(jacc), 'f1': make_scorer(f1), \n",
    "           'recall': make_scorer(recall), 'precision': make_scorer(precision),\n",
    "           'tp': make_scorer(tp), 'tn': make_scorer(tn),\n",
    "           'fp': make_scorer(fp), 'fn': make_scorer(fn)}\n",
    "cv_results = cross_validate(classifier, X, y, cv=10, scoring=scoring)\n",
    "tp = np.sum(cv_results['test_tp'])\n",
    "tn = np.sum(cv_results['test_tn'])\n",
    "fp = np.sum(cv_results['test_fp'])\n",
    "fn = np.sum(cv_results['test_fn'])\n",
    "np.mean(cv_results['test_jacc'])"
   ]
  },
  {
   "cell_type": "code",
   "execution_count": 168,
   "metadata": {},
   "outputs": [
    {
     "data": {
      "text/plain": [
       "array([[  82,  221],\n",
       "       [ 523, 1606]])"
      ]
     },
     "execution_count": 168,
     "metadata": {},
     "output_type": "execute_result"
    }
   ],
   "source": [
    "np.array([[tp, fp], [fn, tn]])"
   ]
  },
  {
   "cell_type": "code",
   "execution_count": 169,
   "metadata": {},
   "outputs": [
    {
     "data": {
      "text/plain": [
       "0.2706270627062706"
      ]
     },
     "execution_count": 169,
     "metadata": {},
     "output_type": "execute_result"
    }
   ],
   "source": [
    "tp/(tp+fp)"
   ]
  },
  {
   "cell_type": "code",
   "execution_count": null,
   "metadata": {},
   "outputs": [],
   "source": []
  },
  {
   "cell_type": "code",
   "execution_count": 170,
   "metadata": {},
   "outputs": [
    {
     "name": "stdout",
     "output_type": "stream",
     "text": [
      "()\n",
      "(1,)\n",
      "(2,)\n",
      "(3,)\n",
      "(1, 2)\n",
      "(1, 3)\n",
      "(2, 3)\n",
      "(1, 2, 3)\n"
     ]
    }
   ],
   "source": []
  },
  {
   "cell_type": "code",
   "execution_count": null,
   "metadata": {},
   "outputs": [],
   "source": []
  }
 ],
 "metadata": {
  "kernelspec": {
   "display_name": "Python 3",
   "language": "python",
   "name": "python3"
  },
  "language_info": {
   "codemirror_mode": {
    "name": "ipython",
    "version": 3
   },
   "file_extension": ".py",
   "mimetype": "text/x-python",
   "name": "python",
   "nbconvert_exporter": "python",
   "pygments_lexer": "ipython3",
   "version": "3.8.3"
  }
 },
 "nbformat": 4,
 "nbformat_minor": 4
}
