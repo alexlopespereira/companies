{
 "cells": [
  {
   "cell_type": "code",
   "execution_count": 1,
   "metadata": {},
   "outputs": [],
   "source": [
    "import pandas as pd\n",
    "import seaborn as sns\n",
    "from pandas.api.types import CategoricalDtype\n",
    "import matplotlib.pyplot as plt\n",
    "from datetime import datetime\n",
    "import numpy as np\n",
    "import csv\n",
    "from IPython.core.display import display, HTML\n",
    "import re"
   ]
  },
  {
   "cell_type": "code",
   "execution_count": 2,
   "metadata": {},
   "outputs": [],
   "source": [
    "def load_dealroom():\n",
    "    # Carrega o dataframe\n",
    "    dealroom_path = \"C:\\\\Users\\\\alex\\\\PycharmProjects\\\\chamada\\\\data\\\\processado\\\\dealroom\\\\companies_11000.xlsx\"\n",
    "    dfd = pd.read_excel(dealroom_path)\n",
    "    dfd.drop_duplicates(subset=[\"id\"], inplace=True)\n",
    "    # Seleciona as empresas com os seguintes tipos de investimento recebidos\n",
    "    select = dfd['LAST ROUND'].isin(['ANGEL', 'SEED', 'EARLY VC', 'SERIES A', 'SERIES B', 'SERIES C', 'SERIES D', 'LATE VC', 'ACQUISITION'])\n",
    "    dfd = dfd[select]\n",
    "    # Transforma o atributo LAST ROUND em categórico\n",
    "    cat_type = CategoricalDtype(categories=['ANGEL', 'SEED', 'EARLY VC', 'SERIES A', 'SERIES B', 'SERIES C', 'SERIES D', 'LATE VC', 'ACQUISITION'], ordered=True)\n",
    "    dfd['LAST ROUND'] = dfd['LAST ROUND'].astype(cat_type)\n",
    "    dfd['EMPLOYEES'] = dfd['EMPLOYEES'].str[1:]\n",
    "    cat_employees = CategoricalDtype(categories=['11-50', '51-200'], ordered=True)\n",
    "    dfd['EMPLOYEES'] = dfd['EMPLOYEES'].astype(cat_employees)\n",
    "    # Conta a quantidade de fundadores homens\n",
    "    dfd['N_MALES'] = dfd['FOUNDERS GENDERS'].str.count(r\"\\b(male)\\b\")\n",
    "    # Conta a quantidade de fundadores mulheres\n",
    "    dfd['N_FEMALES'] = dfd['FOUNDERS GENDERS'].str.count(r\"\\b(female)\\b\")\n",
    "    # Conta a quantidade de fundadores seriais\n",
    "    dfd['N_SERIAL_FOUNDER'] = dfd['FOUNDERS IS SERIAL'].str.count(r\"\\b(yes)\\b\")\n",
    "    dfd['N_NOT_SERIAL_FOUNDER'] = dfd['FOUNDERS IS SERIAL'].str.count(r\"\\b(no)\\b\")\n",
    "    dfd['SERIAL_FOUNDER_PROPORTION'] = (100*dfd['N_SERIAL_FOUNDER'] / (dfd['N_SERIAL_FOUNDER'] + dfd['N_NOT_SERIAL_FOUNDER'])).round()\n",
    "    dfd['GENDER_PROPORTION'] = (100 * dfd['N_MALES'] / (dfd['N_MALES'] + dfd['N_FEMALES'])).round()\n",
    "    # Transforma a string em objeto datetime\n",
    "    dfd['launch_date'] = dfd['LAUNCH DATE'].apply(lambda x: datetime.strptime(x, \"%Y; %B\") if len(str(x)) > 4 else datetime.strptime(f\"{x}, July\", \"%Y, %B\") )\n",
    "    # Transforma a data em ano\n",
    "    dfd['launch_year'] = dfd['LAUNCH DATE'].apply(lambda x: int(re.findall(\"\\d{4}\", str(x))[0]) )\n",
    "    # Transforma a string em objeto datetime\n",
    "    dfd['last_funding_date'] = dfd['LAST FUNDING DATE'].apply(lambda x: datetime.strptime(str(x), \"%b/%Y\") if len(str(x)) > 4 else datetime.strptime(f\"jul/{x}\", \"%b/%Y\"))\n",
    "    # Transforma a data em ano\n",
    "    dfd['last_funding_year'] = dfd['LAST FUNDING DATE'].apply(lambda x: int(re.findall(\"\\d{4}\",str(x))[0]) )\n",
    "    dfd['last_funding_period_years'] = 2020 - dfd['launch_year']\n",
    "    dfd['last_funding_period_days'] = ((datetime.today() - dfd['launch_date']) / np.timedelta64(1, 'D')).round()\n",
    "    # Calcula a quantidade de dias desde o lançamento até a data da ultima rodada de investimento\n",
    "    dfd['last_funding_period_days2'] = ((dfd['last_funding_date'] - dfd['launch_date']) / np.timedelta64(1, 'D')).round()\n",
    "    dfd['average_funding_period'] = dfd['last_funding_period_days'] / dfd['TOTAL ROUNDS NUMBER']\n",
    "    dfd['average_funding_period2'] = dfd['last_funding_period_days2'] / dfd['TOTAL ROUNDS NUMBER']\n",
    "\n",
    "    # Filtra empresas que já tiveram pelo menos 3 rodadas de investimento, ou \n",
    "    #   empresas que já estão há pelo menos 5 anos no mercado.\n",
    "    # dfd = dfd[(dfd['TOTAL ROUNDS NUMBER'] >= 3) | (dfd['last_funding_period_days2'] >= 5*365)]\n",
    "    return dfd"
   ]
  },
  {
   "cell_type": "code",
   "execution_count": 6,
   "metadata": {},
   "outputs": [],
   "source": [
    "def load_crunchbase(year_limit=None):\n",
    "    ## Carrega o arquivo csv consolidado\n",
    "    # path_startup_consol = \"/home/alex/vscode/data/original/crunchbase/consolidado/startups.csv\"\n",
    "    path_startup_consol = \"C:\\\\Users\\\\alex\\\\PycharmProjects\\\\chamada\\\\data\\\\original\\\\crunchbase\\\\consolidado\\\\startups.csv\"\n",
    "    df = pd.read_csv(path_startup_consol)\n",
    "    df.drop(261, inplace=True) ## Tinha um valor errado na data\n",
    "    df.rename(columns={\"Unnamed: 0\": \"id\"}, inplace=True)\n",
    "    ## 3) Faz um filtro por empresas antigas (anteriores a 2017)\n",
    "    df['Founded Date'] = df['Founded Date'].apply(lambda x: datetime.strptime(x, \"%Y-%m-%d\") if type(x) == str else x)\n",
    "    df['Founded_Year'] = df['Founded Date'].apply(lambda x: x.year)\n",
    "    df['Last Funding Date'] = df['Last Funding Date'].apply(lambda x: datetime.strptime(x, \"%Y-%m-%d\") if type(x) == str else x)\n",
    "    # 4) Calcula o tempo médio das rodas de investimento\n",
    "    df['inter_funding_period'] = datetime.today() - df['Founded Date']\n",
    "    df['inter_funding_days'] = df['inter_funding_period'].apply(\n",
    "                                        lambda x: x/np.timedelta64(1, 'D'))\n",
    "    df['average_if_period'] = df['inter_funding_days'] / df['Number of Funding Rounds']\n",
    "    df['inter_funding_period2'] = df['Last Funding Date'] - df['Founded Date']\n",
    "    df['inter_funding_days2'] = df['inter_funding_period'].apply(\n",
    "                                        lambda x: x/np.timedelta64(1, 'D'))\n",
    "    df['average_if_period2'] = df['inter_funding_days'] / df['Number of Funding Rounds']\n",
    "    if year_limit:\n",
    "        df = df.loc[df['Founded_Year'] <= year_limit, :]\n",
    "    return df"
   ]
  },
  {
   "cell_type": "code",
   "execution_count": null,
   "metadata": {},
   "outputs": [],
   "source": []
  }
 ],
 "metadata": {
  "kernelspec": {
   "display_name": "Python 3",
   "language": "python",
   "name": "python3"
  },
  "language_info": {
   "codemirror_mode": {
    "name": "ipython",
    "version": 3
   },
   "file_extension": ".py",
   "mimetype": "text/x-python",
   "name": "python",
   "nbconvert_exporter": "python",
   "pygments_lexer": "ipython3",
   "version": "3.8.3"
  }
 },
 "nbformat": 4,
 "nbformat_minor": 4
}
