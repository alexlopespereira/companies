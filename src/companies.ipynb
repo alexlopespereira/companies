{
 "metadata": {
  "language_info": {
   "codemirror_mode": {
    "name": "ipython",
    "version": 3
   },
   "file_extension": ".py",
   "mimetype": "text/x-python",
   "name": "python",
   "nbconvert_exporter": "python",
   "pygments_lexer": "ipython3",
   "version": "3.8.5-final"
  },
  "orig_nbformat": 2,
  "kernelspec": {
   "name": "python3",
   "display_name": "Python 3.8.5 64-bit ('env')",
   "metadata": {
    "interpreter": {
     "hash": "40d6cd9dbfc4b8b6b06e392741f25a9514c9f8680759cabfed4b5585f2dda016"
    }
   }
  }
 },
 "nbformat": 4,
 "nbformat_minor": 2,
 "cells": [
  {
   "cell_type": "code",
   "execution_count": 64,
   "metadata": {},
   "outputs": [],
   "source": [
    "import pandas as pd\n",
    "from datetime import datetime"
   ]
  },
  {
   "cell_type": "code",
   "execution_count": 47,
   "metadata": {},
   "outputs": [],
   "source": [
    "%run ./util.ipynb"
   ]
  },
  {
   "cell_type": "code",
   "execution_count": 48,
   "metadata": {},
   "outputs": [],
   "source": [
    "# path_startup = \"/home/alex/vscode/data/original/crunchbase/startups/*.csv\"\n",
    "# df_startup = concat_files(path_startup, ['Organization Name'])\n",
    "# df_startup.to_csv(\"/home/alex/vscode/data/original/crunchbase/consolidado/startups.csv\")\n",
    "# path_aquisicoes = \"/home/alex/vscode/data/original/crunchbase/aquisicoes/*.csv\"\n",
    "# df_aquisicoes = concat_files(path_aquisicoes, ['Transaction Name'])\n",
    "# df_aquisicoes.to_csv(\"/home/alex/vscode/data/original/crunchbase/consolidado/aquisicoes.csv\")"
   ]
  },
  {
   "cell_type": "code",
   "execution_count": 88,
   "metadata": {},
   "outputs": [],
   "source": [
    "df_startup = pd.read_csv(\"/home/alex/vscode/data/crunchbase/consolidado/startups.csv\", index_col=\"index\", engine='python')\n",
    "df_startup['Last Funding Date'] = df_startup['Last Funding Date'].apply(lambda x: datetime.strptime(x, \"%Y-%m-%d\") if type(x) == str else x)\n",
    "df_startup['Last_Funding_Year'] = df_startup['Last Funding Date'].apply(lambda x: x.year)\n",
    "# df_startup.loc[df_startup['Last Funding Date'].str.len() == 1, 'Last Funding Date']"
   ]
  },
  {
   "cell_type": "code",
   "execution_count": 94,
   "metadata": {},
   "outputs": [
    {
     "output_type": "execute_result",
     "data": {
      "text/plain": [
       "321"
      ]
     },
     "metadata": {},
     "execution_count": 94
    }
   ],
   "source": [
    "## Filter seed and pre-seed\n",
    "fs_seed = df_startup['Funding Status'] == 'Seed'\n",
    "lft_seed = df_startup['Last Funding Type'].isin(['Seed', 'Grant', 'Angel', 'Pre-Seed'])\n",
    "old_seed = df_startup['Last_Funding_Year'] <= 2017\n",
    "select_seed = fs_seed & lft_seed & old_seed\n",
    "df_startup.loc[select_seed, 'Success'] = False\n",
    "select_seed.sum()"
   ]
  },
  {
   "cell_type": "code",
   "execution_count": 95,
   "metadata": {},
   "outputs": [
    {
     "output_type": "execute_result",
     "data": {
      "text/plain": [
       "339"
      ]
     },
     "metadata": {},
     "execution_count": 95
    }
   ],
   "source": [
    "## Filter series\n",
    "select_series = df_startup['Last Funding Type'].isin(['Series B', 'Series C', 'Series D', 'Series E'])\n",
    "df_startup.loc[select_series, 'Success'] = True\n",
    "select_series.sum()"
   ]
  },
  {
   "cell_type": "code",
   "execution_count": 96,
   "metadata": {},
   "outputs": [],
   "source": [
    "df_result = df_startup.dropna(subset=['Success'])\n",
    "df_result.to_csv(\"/home/alex/vscode/data/processado/crunchbase/startups.csv\")"
   ]
  },
  {
   "cell_type": "code",
   "execution_count": null,
   "metadata": {},
   "outputs": [],
   "source": []
  }
 ]
}